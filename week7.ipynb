{
  "nbformat": 4,
  "nbformat_minor": 0,
  "metadata": {
    "colab": {
      "provenance": [],
      "mount_file_id": "1f9DC7efJ-RWvskqiS691A768zrDWLjVQ",
      "authorship_tag": "ABX9TyMWJ3G+24nQepT4VSjhvGzs",
      "include_colab_link": true
    },
    "kernelspec": {
      "name": "python3",
      "display_name": "Python 3"
    },
    "language_info": {
      "name": "python"
    }
  },
  "cells": [
    {
      "cell_type": "markdown",
      "metadata": {
        "id": "view-in-github",
        "colab_type": "text"
      },
      "source": [
        "<a href=\"https://colab.research.google.com/github/Ratnasari124/PCVK_RATNASARI_2024/blob/main/week7.ipynb\" target=\"_parent\"><img src=\"https://colab.research.google.com/assets/colab-badge.svg\" alt=\"Open In Colab\"/></a>"
      ]
    },
    {
      "cell_type": "markdown",
      "source": [
        "**PCVK JOBSHEET 5**\n",
        "\n",
        "**Filter Spasial Low Pass Filter, High Pass Filter, Point Detection, Line Detection, Edge Detection**\n",
        "\n",
        "---\n",
        "\n",
        "\n",
        "\n",
        "Nama : Ratnasari\n",
        "\n",
        "NIM : 2241720007\n",
        "\n",
        "Kelas : TI 3D\n",
        "\n",
        "\n",
        "---\n",
        "\n",
        "\n",
        "link jobsheet : https://drive.google.com/file/d/1bYz51UjYMmh-c9kdVh3AUvlMiUfKKuHm/view\n",
        "\n",
        "link github :\n",
        "\n"
      ],
      "metadata": {
        "id": "zvXKliqcfNgT"
      }
    },
    {
      "cell_type": "markdown",
      "source": [],
      "metadata": {
        "id": "4ilJuUP-fNBm"
      }
    },
    {
      "cell_type": "code",
      "execution_count": 6,
      "metadata": {
        "colab": {
          "base_uri": "https://localhost:8080/"
        },
        "id": "qN7nGlLKe8e4",
        "outputId": "119282c4-c253-4b22-b7a2-bf958b14391f"
      },
      "outputs": [
        {
          "output_type": "stream",
          "name": "stdout",
          "text": [
            "Mounted at /content/drive\n"
          ]
        }
      ],
      "source": [
        "from google.colab import drive\n",
        "drive.mount('/content/drive')"
      ]
    },
    {
      "cell_type": "code",
      "source": [
        "import numpy as np\n",
        "import matplotlib.pyplot as plt\n",
        "import cv2 as cv\n",
        "import math\n",
        "from google.colab.patches import cv2_imshow\n",
        "from PIL import Image as im"
      ],
      "metadata": {
        "id": "iAoDgzSShaiF"
      },
      "execution_count": 7,
      "outputs": []
    },
    {
      "cell_type": "markdown",
      "source": [
        "**Konvolusi tanpa library**\n",
        "\n",
        "membuat fungsi konvolusi\n",
        "\n",
        "Fungsi konvolusi yang dibuat memiliki parameter berupa:\n",
        "\n",
        "1. citra masukan,\n",
        "2. kernel berupa matriks untuk memfilter citra\n",
        "3. nilai stride / besarnya pengeseran untuk setia konvolusi,\n",
        "4. nilai pad yang akan ditambahkan pada citra\n"
      ],
      "metadata": {
        "id": "OKm-3VA8hpYT"
      }
    },
    {
      "cell_type": "code",
      "source": [
        "import numpy as np\n",
        "\n",
        "def convolution2d(image, kernel, stride, padding):\n",
        "    # Apply padding to the image\n",
        "    image = np.pad(image, padding, mode='constant', constant_values=0)\n",
        "\n",
        "    kernel_height, kernel_width = kernel.shape\n",
        "    padded_height, padded_width = image.shape\n",
        "\n",
        "    # Calculate the size of the output image\n",
        "    output_height = (padded_height - kernel_height) // stride + 1\n",
        "    output_width = (padded_width - kernel_width) // stride + 1\n",
        "\n",
        "    # Initialize the output image\n",
        "    new_image = np.zeros((output_height, output_width)).astype(np.float32)\n",
        "\n",
        "    # Convolution process\n",
        "    for y in range(0, output_height):\n",
        "        for x in range(0, output_width):\n",
        "            new_image[y][x] = np.sum(image[y * stride:y * stride + kernel_height,\n",
        "                                           x * stride:x * stride + kernel_width] * kernel).astype(np.float32)\n",
        "\n",
        "    return new_image\n"
      ],
      "metadata": {
        "id": "_8i4TywqpJwN"
      },
      "execution_count": 3,
      "outputs": []
    },
    {
      "cell_type": "code",
      "source": [
        "#img_m berisi citra asli dalam format BGR.\n",
        "img_m = cv.imread('/content/drive/MyDrive/ratna/female.tiff')\n",
        "#img_s berisi citra asli yang telah diubah ukuran (skala setengah).\n",
        "img_s = cv.resize(img_m, (0,0), fx=0.5, fy=0.5)\n",
        "#img_gray berisi citra asli yang telah diubah menjadi citra grayscale.\n",
        "img_gray = cv.cvtColor(img_m, cv.COLOR_BGR2GRAY)"
      ],
      "metadata": {
        "colab": {
          "base_uri": "https://localhost:8080/",
          "height": 222
        },
        "id": "anD_wil8pkZ-",
        "outputId": "7a424fe5-8a80-40da-89d6-9ec47916b51e"
      },
      "execution_count": 5,
      "outputs": [
        {
          "output_type": "error",
          "ename": "NameError",
          "evalue": "name 'cv' is not defined",
          "traceback": [
            "\u001b[0;31m---------------------------------------------------------------------------\u001b[0m",
            "\u001b[0;31mNameError\u001b[0m                                 Traceback (most recent call last)",
            "\u001b[0;32m<ipython-input-5-a839bf3a2eeb>\u001b[0m in \u001b[0;36m<cell line: 2>\u001b[0;34m()\u001b[0m\n\u001b[1;32m      1\u001b[0m \u001b[0;31m#img_m berisi citra asli dalam format BGR.\u001b[0m\u001b[0;34m\u001b[0m\u001b[0;34m\u001b[0m\u001b[0m\n\u001b[0;32m----> 2\u001b[0;31m \u001b[0mimg_m\u001b[0m \u001b[0;34m=\u001b[0m \u001b[0mcv\u001b[0m\u001b[0;34m.\u001b[0m\u001b[0mimread\u001b[0m\u001b[0;34m(\u001b[0m\u001b[0;34m'/content/drive/MyDrive/ratna/female.tiff'\u001b[0m\u001b[0;34m)\u001b[0m\u001b[0;34m\u001b[0m\u001b[0;34m\u001b[0m\u001b[0m\n\u001b[0m\u001b[1;32m      3\u001b[0m \u001b[0;31m#img_s berisi citra asli yang telah diubah ukuran (skala setengah).\u001b[0m\u001b[0;34m\u001b[0m\u001b[0;34m\u001b[0m\u001b[0m\n\u001b[1;32m      4\u001b[0m \u001b[0mimg_s\u001b[0m \u001b[0;34m=\u001b[0m \u001b[0mcv\u001b[0m\u001b[0;34m.\u001b[0m\u001b[0mresize\u001b[0m\u001b[0;34m(\u001b[0m\u001b[0mimg_m\u001b[0m\u001b[0;34m,\u001b[0m \u001b[0;34m(\u001b[0m\u001b[0;36m0\u001b[0m\u001b[0;34m,\u001b[0m\u001b[0;36m0\u001b[0m\u001b[0;34m)\u001b[0m\u001b[0;34m,\u001b[0m \u001b[0mfx\u001b[0m\u001b[0;34m=\u001b[0m\u001b[0;36m0.5\u001b[0m\u001b[0;34m,\u001b[0m \u001b[0mfy\u001b[0m\u001b[0;34m=\u001b[0m\u001b[0;36m0.5\u001b[0m\u001b[0;34m)\u001b[0m\u001b[0;34m\u001b[0m\u001b[0;34m\u001b[0m\u001b[0m\n\u001b[1;32m      5\u001b[0m \u001b[0;31m#img_gray berisi citra asli yang telah diubah menjadi citra grayscale.\u001b[0m\u001b[0;34m\u001b[0m\u001b[0;34m\u001b[0m\u001b[0m\n",
            "\u001b[0;31mNameError\u001b[0m: name 'cv' is not defined"
          ]
        }
      ]
    }
  ]
}